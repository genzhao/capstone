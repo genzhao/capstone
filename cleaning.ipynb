{
 "cells": [
  {
   "cell_type": "code",
   "execution_count": 1,
   "metadata": {
    "collapsed": false
   },
   "outputs": [],
   "source": [
    "import pandas as pd\n",
    "import numpy as np\n",
    "import requests\n",
    "from bs4 import BeautifulSoup as bs\n",
    "import urllib, cStringIO\n",
    "import urllib2\n",
    "from PIL import Image\n",
    "import pickle\n",
    "import ftfy\n",
    "from time import time\n",
    "import re\n",
    "import gzip\n",
    "import os\n",
    "from matplotlib import pyplot as plt\n",
    "%matplotlib inline\n",
    "import cv2"
   ]
  },
  {
   "cell_type": "code",
   "execution_count": null,
   "metadata": {
    "collapsed": true
   },
   "outputs": [],
   "source": [
    "zappos = pd.read_csv('./zappos.csv')\n",
    "six = pd.read_csv('./6pm.csv')"
   ]
  },
  {
   "cell_type": "code",
   "execution_count": null,
   "metadata": {
    "collapsed": true
   },
   "outputs": [],
   "source": [
    "frames = [zappos,six]"
   ]
  },
  {
   "cell_type": "code",
   "execution_count": null,
   "metadata": {
    "collapsed": true
   },
   "outputs": [],
   "source": [
    "zapposmerged = pd.concat(frames, axis=0, ignore_index=True)"
   ]
  },
  {
   "cell_type": "code",
   "execution_count": null,
   "metadata": {
    "collapsed": true
   },
   "outputs": [],
   "source": [
    "zapposmerged.brand_name.value_counts()"
   ]
  },
  {
   "cell_type": "code",
   "execution_count": null,
   "metadata": {
    "collapsed": true
   },
   "outputs": [],
   "source": [
    "zappos_clean = zapposmerged.groupby('brand_name').filter(lambda x: len(x) > 100).reset_index(drop=True)"
   ]
  },
  {
   "cell_type": "code",
   "execution_count": null,
   "metadata": {
    "collapsed": true
   },
   "outputs": [],
   "source": [
    "zappos_clean.to_csv('zap.csv',index=False)"
   ]
  },
  {
   "cell_type": "code",
   "execution_count": 3,
   "metadata": {
    "collapsed": false
   },
   "outputs": [],
   "source": [
    "zap = pd.read_csv('/users/Gene/Desktop/gzdsi7/Capstone/zappos_clean.csv')\n"
   ]
  },
  {
   "cell_type": "code",
   "execution_count": 4,
   "metadata": {
    "collapsed": false
   },
   "outputs": [],
   "source": [
    "zap.drop(['shoe_link','bottomview'], axis = 1, inplace=True)"
   ]
  },
  {
   "cell_type": "code",
   "execution_count": 5,
   "metadata": {
    "collapsed": false
   },
   "outputs": [],
   "source": [
    "zap.dropna(inplace=True)"
   ]
  },
  {
   "cell_type": "code",
   "execution_count": 6,
   "metadata": {
    "collapsed": true
   },
   "outputs": [],
   "source": [
    "zap.shoe_name = zap.shoe_name.apply(lambda x: unicode(x, \"utf8\", errors=\"ignore\"))\n"
   ]
  },
  {
   "cell_type": "code",
   "execution_count": 7,
   "metadata": {
    "collapsed": true
   },
   "outputs": [],
   "source": [
    "zap.shoe_name = zap.shoe_name.apply(lambda x: x.replace('(Little Kid/Big Kid)',''))"
   ]
  },
  {
   "cell_type": "code",
   "execution_count": 8,
   "metadata": {
    "collapsed": true
   },
   "outputs": [],
   "source": [
    "zap.shoe_name = zap.shoe_name.apply(lambda x: x.replace('(Toddler)',''))"
   ]
  },
  {
   "cell_type": "code",
   "execution_count": 9,
   "metadata": {
    "collapsed": true
   },
   "outputs": [],
   "source": [
    "zap.shoe_name = zap.shoe_name.apply(lambda x: x.replace('(Infant/Toddler)',''))"
   ]
  },
  {
   "cell_type": "code",
   "execution_count": 10,
   "metadata": {
    "collapsed": true
   },
   "outputs": [],
   "source": [
    "zap.shoe_name = zap.shoe_name.apply(lambda x: x.replace('(Little Kid)',''))"
   ]
  },
  {
   "cell_type": "code",
   "execution_count": 11,
   "metadata": {
    "collapsed": true
   },
   "outputs": [],
   "source": [
    "zap.shoe_name = zap.shoe_name.apply(lambda x: x.replace('(Big Kid)',''))"
   ]
  },
  {
   "cell_type": "code",
   "execution_count": 12,
   "metadata": {
    "collapsed": true
   },
   "outputs": [],
   "source": [
    "zap.shoe_name = zap.shoe_name.apply(lambda x: x.replace('(Toddler/Little Kid)',''))"
   ]
  },
  {
   "cell_type": "code",
   "execution_count": 13,
   "metadata": {
    "collapsed": true
   },
   "outputs": [],
   "source": [
    "zap.shoe_name = zap.shoe_name.apply(lambda x: x.replace('(Toddler/Little Kid/Big Kid)',''))"
   ]
  },
  {
   "cell_type": "code",
   "execution_count": 14,
   "metadata": {
    "collapsed": true
   },
   "outputs": [],
   "source": [
    "zap.shoe_name = zap.shoe_name.apply(lambda x: x.replace('(Little Kid/Bid Kid)',''))"
   ]
  },
  {
   "cell_type": "code",
   "execution_count": 15,
   "metadata": {
    "collapsed": true
   },
   "outputs": [],
   "source": [
    "zap.shoe_name = zap.shoe_name.apply(lambda x: x.replace('(Infant)',''))"
   ]
  },
  {
   "cell_type": "code",
   "execution_count": 16,
   "metadata": {
    "collapsed": true
   },
   "outputs": [],
   "source": [
    "zap.shoe_name = zap.shoe_name.apply(lambda x: x.replace('(Big Kids)',''))"
   ]
  },
  {
   "cell_type": "code",
   "execution_count": 3,
   "metadata": {
    "collapsed": true
   },
   "outputs": [],
   "source": [
    "zap.colorcode = zap.colorcode.astype(str)"
   ]
  },
  {
   "cell_type": "code",
   "execution_count": 18,
   "metadata": {
    "collapsed": false,
    "scrolled": true
   },
   "outputs": [],
   "source": [
    "zap.lateralfrontleft = zap.lateralfrontleft.apply(lambda x: x.replace('http://http://','http://'))\n",
    "zap.heelview = zap.heelview.apply(lambda x: x.replace('http://http://','http://'))\n",
    "zap.toeview = zap.toeview.apply(lambda x: x.replace('http://http://','http://'))\n",
    "zap.medialfrontright = zap.medialfrontright.apply(lambda x: x.replace('http://http://','http://'))\n",
    "zap.topview = zap.topview.apply(lambda x: x.replace('http://http://','http://'))"
   ]
  },
  {
   "cell_type": "code",
   "execution_count": null,
   "metadata": {
    "collapsed": true
   },
   "outputs": [],
   "source": [
    "zap = zap.drop_duplicates(subset=['brand_name','shoe_name','colorway'])"
   ]
  }
 ],
 "metadata": {
  "kernelspec": {
   "display_name": "Python 2",
   "language": "python",
   "name": "python2"
  },
  "language_info": {
   "codemirror_mode": {
    "name": "ipython",
    "version": 2
   },
   "file_extension": ".py",
   "mimetype": "text/x-python",
   "name": "python",
   "nbconvert_exporter": "python",
   "pygments_lexer": "ipython2",
   "version": "2.7.13"
  }
 },
 "nbformat": 4,
 "nbformat_minor": 2
}
