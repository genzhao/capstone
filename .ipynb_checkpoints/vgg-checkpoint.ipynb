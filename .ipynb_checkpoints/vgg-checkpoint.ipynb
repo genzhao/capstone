{
 "cells": [
  {
   "cell_type": "code",
   "execution_count": 3,
   "metadata": {
    "collapsed": false
   },
   "outputs": [],
   "source": [
    "import numpy as np\n",
    "from matplotlib import pyplot as plt\n",
    "from keras.applications.resnet50 import ResNet50\n",
    "from keras.applications.vgg16 import VGG16\n",
    "from keras.models import Model\n",
    "from keras.layers import Dense, Flatten, Dropout, Activation\n",
    "from keras.preprocessing.image import ImageDataGenerator\n",
    "%matplotlib inline\n",
    "import pickle\n",
    "import os\n",
    "import cPickle"
   ]
  },
  {
   "cell_type": "code",
   "execution_count": null,
   "metadata": {
    "collapsed": true
   },
   "outputs": [],
   "source": [
    "base_vgg = VGG16(include_top=False, weights='imagenet', input_shape=(224, 224, 3), pooling=None, classes=1000)"
   ]
  },
  {
   "cell_type": "code",
   "execution_count": 113,
   "metadata": {
    "collapsed": false
   },
   "outputs": [],
   "source": [
    "base_resnet = ResNet50(include_top=False, input_shape=(224, 224, 3), classes=2)"
   ]
  },
  {
   "cell_type": "code",
   "execution_count": 114,
   "metadata": {
    "collapsed": false
   },
   "outputs": [],
   "source": [
    "shoe_model = Flatten(input_shape=base_resnet.output.shape[1:])(base_resnet.output)\n",
    "shoe_model = Dense(1024, activation='relu')(shoe_model)\n",
    "shoe_model = Dense(512, activation='relu')(shoe_model)\n",
    "predictions = Dense(2, activation='softmax')(shoe_model)"
   ]
  },
  {
   "cell_type": "code",
   "execution_count": 115,
   "metadata": {
    "collapsed": false
   },
   "outputs": [],
   "source": [
    "model = Model(inputs=base_resnet.input, outputs=predictions)\n",
    "for layer in base_resnet.layers:\n",
    "    layer.trainable = False"
   ]
  },
  {
   "cell_type": "code",
   "execution_count": 116,
   "metadata": {
    "collapsed": true
   },
   "outputs": [],
   "source": [
    "model.compile('adam', 'categorical_crossentropy', metrics=['accuracy'])"
   ]
  },
  {
   "cell_type": "code",
   "execution_count": 124,
   "metadata": {
    "collapsed": true
   },
   "outputs": [],
   "source": [
    "train_datagen = ImageDataGenerator(\n",
    "    rescale=1/255., \n",
    ")\n",
    "\n",
    "test_datagen = ImageDataGenerator(\n",
    "    rescale = 1/255.,\n",
    ")"
   ]
  },
  {
   "cell_type": "code",
   "execution_count": 129,
   "metadata": {
    "collapsed": false
   },
   "outputs": [
    {
     "name": "stdout",
     "output_type": "stream",
     "text": [
      "Found 2011 images belonging to 2 classes.\n"
     ]
    }
   ],
   "source": [
    "train_generator = train_datagen.flow_from_directory(\n",
    "    directory='./train/',\n",
    "    target_size = (224, 224),\n",
    "    classes = ['0','5']\n",
    ")"
   ]
  },
  {
   "cell_type": "code",
   "execution_count": 132,
   "metadata": {
    "collapsed": false
   },
   "outputs": [
    {
     "name": "stdout",
     "output_type": "stream",
     "text": [
      "Found 2010 images belonging to 2 classes.\n"
     ]
    }
   ],
   "source": [
    "test_generator = test_datagen.flow_from_directory(\n",
    "    directory='./test/',\n",
    "    target_size=(224, 224),\n",
    "    classes=['0','5'], \n",
    "    batch_size=12\n",
    ")"
   ]
  },
  {
   "cell_type": "code",
   "execution_count": 309,
   "metadata": {
    "collapsed": false,
    "scrolled": true
   },
   "outputs": [],
   "source": [
    "X_valid, y_valid = test_generator.next()"
   ]
  },
  {
   "cell_type": "code",
   "execution_count": 133,
   "metadata": {
    "collapsed": true
   },
   "outputs": [],
   "source": [
    "from keras.callbacks import TensorBoard, ModelCheckpoint, EarlyStopping\n",
    "\n",
    "nike_adidas_tboard = TensorBoard(log_dir='tensorboard_logs/nike_v_adidas')\n",
    "# causing the bug \n",
    "nike_adidas_model = ModelCheckpoint(filepath='nike_adidas', verbose=1, monitor='loss', save_best_only=True, mode='max')\n",
    "early_stopping = EarlyStopping(monitor='val_acc', patience=5)"
   ]
  },
  {
   "cell_type": "code",
   "execution_count": 134,
   "metadata": {
    "collapsed": false
   },
   "outputs": [],
   "source": [
    "callbacks_list = [early_stopping, nike_adidas_tboard]"
   ]
  },
  {
   "cell_type": "code",
   "execution_count": 135,
   "metadata": {
    "collapsed": false
   },
   "outputs": [
    {
     "name": "stdout",
     "output_type": "stream",
     "text": [
      "Epoch 1/50\n",
      "63/63 [==============================] - 76s - loss: 0.5190 - acc: 0.7929 - val_loss: 1.0079 - val_acc: 0.3438\n",
      "Epoch 2/50\n",
      "63/63 [==============================] - 48s - loss: 0.2151 - acc: 0.9129 - val_loss: 1.2147 - val_acc: 0.3646\n",
      "Epoch 3/50\n",
      "63/63 [==============================] - 48s - loss: 0.1346 - acc: 0.9473 - val_loss: 2.0779 - val_acc: 0.3385\n",
      "Epoch 4/50\n",
      "63/63 [==============================] - 48s - loss: 0.1814 - acc: 0.9237 - val_loss: 1.7191 - val_acc: 0.3854\n",
      "Epoch 5/50\n",
      "63/63 [==============================] - 48s - loss: 0.1005 - acc: 0.9612 - val_loss: 1.2526 - val_acc: 0.3958\n",
      "Epoch 6/50\n",
      "63/63 [==============================] - 48s - loss: 0.0924 - acc: 0.9582 - val_loss: 1.2220 - val_acc: 0.4531\n",
      "Epoch 7/50\n",
      "63/63 [==============================] - 48s - loss: 0.0505 - acc: 0.9812 - val_loss: 0.6059 - val_acc: 0.6989\n",
      "Epoch 8/50\n",
      "63/63 [==============================] - 48s - loss: 0.0754 - acc: 0.9741 - val_loss: 0.8322 - val_acc: 0.6250\n",
      "Epoch 9/50\n",
      "63/63 [==============================] - 48s - loss: 0.0526 - acc: 0.9777 - val_loss: 0.7801 - val_acc: 0.7135\n",
      "Epoch 10/50\n",
      "63/63 [==============================] - 48s - loss: 0.0681 - acc: 0.9752 - val_loss: 1.9494 - val_acc: 0.4792\n",
      "Epoch 11/50\n",
      "63/63 [==============================] - 48s - loss: 0.0420 - acc: 0.9859 - val_loss: 1.6815 - val_acc: 0.6250\n",
      "Epoch 12/50\n",
      "63/63 [==============================] - 48s - loss: 0.0603 - acc: 0.9780 - val_loss: 1.8481 - val_acc: 0.6042\n",
      "Epoch 13/50\n",
      "63/63 [==============================] - 48s - loss: 0.0503 - acc: 0.9802 - val_loss: 0.6189 - val_acc: 0.8229\n",
      "Epoch 14/50\n",
      "63/63 [==============================] - 48s - loss: 0.0192 - acc: 0.9931 - val_loss: 0.7749 - val_acc: 0.8281\n",
      "Epoch 15/50\n",
      "63/63 [==============================] - 48s - loss: 0.0232 - acc: 0.9901 - val_loss: 0.9374 - val_acc: 0.7865\n",
      "Epoch 16/50\n",
      "63/63 [==============================] - 48s - loss: 0.0555 - acc: 0.9791 - val_loss: 0.9596 - val_acc: 0.8177\n",
      "Epoch 17/50\n",
      "63/63 [==============================] - 48s - loss: 0.0427 - acc: 0.9836 - val_loss: 0.9029 - val_acc: 0.7656\n",
      "Epoch 18/50\n",
      "63/63 [==============================] - 48s - loss: 0.0277 - acc: 0.9906 - val_loss: 0.8885 - val_acc: 0.8021\n",
      "Epoch 19/50\n",
      "63/63 [==============================] - 48s - loss: 0.0115 - acc: 0.9975 - val_loss: 0.9841 - val_acc: 0.8073\n",
      "Epoch 20/50\n",
      "63/63 [==============================] - 48s - loss: 0.0167 - acc: 0.9945 - val_loss: 0.3380 - val_acc: 0.9247\n",
      "Epoch 21/50\n",
      "63/63 [==============================] - 48s - loss: 0.0144 - acc: 0.9940 - val_loss: 1.1729 - val_acc: 0.7865\n",
      "Epoch 22/50\n",
      "63/63 [==============================] - 48s - loss: 0.0154 - acc: 0.9935 - val_loss: 1.7252 - val_acc: 0.7031\n",
      "Epoch 23/50\n",
      "63/63 [==============================] - 48s - loss: 0.0318 - acc: 0.9896 - val_loss: 0.5342 - val_acc: 0.8958\n",
      "Epoch 24/50\n",
      "63/63 [==============================] - 48s - loss: 0.0156 - acc: 0.9940 - val_loss: 1.2903 - val_acc: 0.7917\n",
      "Epoch 25/50\n",
      "63/63 [==============================] - 48s - loss: 0.0151 - acc: 0.9955 - val_loss: 0.6777 - val_acc: 0.8385\n",
      "Epoch 26/50\n",
      "63/63 [==============================] - 48s - loss: 0.0207 - acc: 0.9916 - val_loss: 0.7886 - val_acc: 0.8281\n"
     ]
    },
    {
     "data": {
      "text/plain": [
       "<keras.callbacks.History at 0x7f6356eed150>"
      ]
     },
     "execution_count": 135,
     "metadata": {},
     "output_type": "execute_result"
    }
   ],
   "source": [
    "model.fit_generator(\n",
    "    train_generator,\n",
    "    steps_per_epoch=2011 / 32 + 1,\n",
    "    epochs=50,\n",
    "    validation_data=test_generator,\n",
    "    validation_steps = 2010 / 128 + 1,\n",
    "    callbacks = callbacks_list,\n",
    ")"
   ]
  },
  {
   "cell_type": "code",
   "execution_count": 138,
   "metadata": {
    "collapsed": false
   },
   "outputs": [],
   "source": [
    "model.save_weights('best_model_weights')"
   ]
  },
  {
   "cell_type": "code",
   "execution_count": 145,
   "metadata": {
    "collapsed": false,
    "scrolled": false
   },
   "outputs": [],
   "source": [
    "cPickle.dump(model.get_config(), open('best_model', 'wb'))"
   ]
  },
  {
   "cell_type": "code",
   "execution_count": 146,
   "metadata": {
    "collapsed": true
   },
   "outputs": [],
   "source": [
    "model.load_weights('best_model_weights')"
   ]
  },
  {
   "cell_type": "code",
   "execution_count": null,
   "metadata": {
    "collapsed": true
   },
   "outputs": [],
   "source": []
  },
  {
   "cell_type": "code",
   "execution_count": null,
   "metadata": {
    "collapsed": true
   },
   "outputs": [],
   "source": []
  },
  {
   "cell_type": "code",
   "execution_count": null,
   "metadata": {
    "collapsed": true
   },
   "outputs": [],
   "source": []
  },
  {
   "cell_type": "code",
   "execution_count": null,
   "metadata": {
    "collapsed": true
   },
   "outputs": [],
   "source": []
  },
  {
   "cell_type": "code",
   "execution_count": null,
   "metadata": {
    "collapsed": true
   },
   "outputs": [],
   "source": []
  },
  {
   "cell_type": "code",
   "execution_count": null,
   "metadata": {
    "collapsed": true
   },
   "outputs": [],
   "source": []
  },
  {
   "cell_type": "code",
   "execution_count": 55,
   "metadata": {
    "collapsed": false
   },
   "outputs": [],
   "source": [
    "test_preds = model.predict_generator(test_generator, steps=10)"
   ]
  },
  {
   "cell_type": "code",
   "execution_count": 70,
   "metadata": {
    "collapsed": false
   },
   "outputs": [],
   "source": [
    "is_jpeg = lambda x: 'jpeg' in x\n",
    "adid_path = 'lateral_keras/test/5'\n",
    "adid_images = filter(is_jpeg, os.listdir(adid_path))\n",
    "valid_adid = map(lambda img: os.path.join(adid_path, img), adid_images)"
   ]
  },
  {
   "cell_type": "code",
   "execution_count": 71,
   "metadata": {
    "collapsed": false
   },
   "outputs": [],
   "source": [
    "nike_path = 'lateral_keras/test/0'\n",
    "nike_images = filter(is_jpeg, os.listdir(nike_path))\n",
    "valid_nike = map(lambda img: os.path.join(nike_path, img), nike_images)"
   ]
  },
  {
   "cell_type": "code",
   "execution_count": 77,
   "metadata": {
    "collapsed": true
   },
   "outputs": [],
   "source": [
    "### Model Evaluation "
   ]
  },
  {
   "cell_type": "code",
   "execution_count": 82,
   "metadata": {
    "collapsed": false
   },
   "outputs": [],
   "source": [
    "from scipy.misc import imread\n",
    "def get_arrs(img_paths):\n",
    "    arr = np.zeros((len(img_paths), 224, 224, 3))\n",
    "    for idx, item in enumerate(img_paths):\n",
    "        arr[idx] = imread(item)\n",
    "    return arr"
   ]
  },
  {
   "cell_type": "code",
   "execution_count": 85,
   "metadata": {
    "collapsed": false
   },
   "outputs": [],
   "source": [
    "nike_test = get_arrs(valid_nike)\n",
    "adi_test = get_arrs(valid_adid)"
   ]
  },
  {
   "cell_type": "code",
   "execution_count": 109,
   "metadata": {
    "collapsed": true
   },
   "outputs": [],
   "source": [
    "X_test = np.vstack((nike_test, adi_test)) / 255."
   ]
  },
  {
   "cell_type": "code",
   "execution_count": 97,
   "metadata": {
    "collapsed": false
   },
   "outputs": [],
   "source": [
    "nike_labels = np.zeros(nike_test.shape[0])\n",
    "adi_labels = np.ones(adi_test.shape[0])"
   ]
  },
  {
   "cell_type": "code",
   "execution_count": 101,
   "metadata": {
    "collapsed": false
   },
   "outputs": [],
   "source": [
    "y_test = np.hstack((nike_labels, adi_labels))"
   ]
  },
  {
   "cell_type": "code",
   "execution_count": 111,
   "metadata": {
    "collapsed": true
   },
   "outputs": [],
   "source": [
    "pred_labels = model.predict(X_test).argmax(axis=1)"
   ]
  },
  {
   "cell_type": "code",
   "execution_count": 114,
   "metadata": {
    "collapsed": false
   },
   "outputs": [
    {
     "data": {
      "text/plain": [
       "array([[810,  28],\n",
       "       [106, 396]])"
      ]
     },
     "execution_count": 114,
     "metadata": {},
     "output_type": "execute_result"
    }
   ],
   "source": [
    "from sklearn.metrics import confusion_matrix\n",
    "confusion_matrix(y_test, pred_labels)"
   ]
  },
  {
   "cell_type": "code",
   "execution_count": 186,
   "metadata": {
    "collapsed": false
   },
   "outputs": [],
   "source": [
    "from vis.utils import utils\n",
    "from vis.visualization import visualize_cam, overlay, visualize_saliency, visualize_activation"
   ]
  },
  {
   "cell_type": "code",
   "execution_count": 191,
   "metadata": {
    "collapsed": false
   },
   "outputs": [
    {
     "data": {
      "text/plain": [
       "178"
      ]
     },
     "execution_count": 191,
     "metadata": {},
     "output_type": "execute_result"
    }
   ],
   "source": [
    "utils.find_layer_idx(model, 'dense_6')"
   ]
  },
  {
   "cell_type": "code",
   "execution_count": 194,
   "metadata": {
    "collapsed": false
   },
   "outputs": [],
   "source": [
    "nike_viz_3 = visualize_cam(model, 178, 1, seed_input=X_test[5])"
   ]
  },
  {
   "cell_type": "code",
   "execution_count": 197,
   "metadata": {
    "collapsed": false
   },
   "outputs": [],
   "source": [
    "import keras.backend as K"
   ]
  },
  {
   "cell_type": "code",
   "execution_count": 201,
   "metadata": {
    "collapsed": false
   },
   "outputs": [
    {
     "data": {
      "text/plain": [
       "<tf.Tensor 'dense_6/Softmax:0' shape=(?, 2) dtype=float32>"
      ]
     },
     "execution_count": 201,
     "metadata": {},
     "output_type": "execute_result"
    }
   ],
   "source": [
    "model.output"
   ]
  },
  {
   "cell_type": "code",
   "execution_count": 209,
   "metadata": {
    "collapsed": false
   },
   "outputs": [],
   "source": [
    "grad_op = K.function(inputs=[model.input, K.learning_phase()] , outputs=K.gradients(loss=model.output, variables=model.input))"
   ]
  },
  {
   "cell_type": "code",
   "execution_count": 211,
   "metadata": {
    "collapsed": false
   },
   "outputs": [],
   "source": [
    "output =  grad_op([X_test[5:6], 0])"
   ]
  },
  {
   "cell_type": "code",
   "execution_count": 193,
   "metadata": {
    "collapsed": false
   },
   "outputs": [
    {
     "data": {
      "text/plain": [
       "<matplotlib.image.AxesImage at 0x7f8399c88b90>"
      ]
     },
     "execution_count": 193,
     "metadata": {},
     "output_type": "execute_result"
    },
    {
     "data": {
      "image/png": "[encoded data removed]",
      "text/plain": [
       "<matplotlib.figure.Figure at 0x7f839d340350>"
      ]
     },
     "metadata": {},
     "output_type": "display_data"
    }
   ],
   "source": [
    "plt.imshow(overlay(X_test[5], nike_viz_3.astype('uint8')))"
   ]
  },
  {
   "cell_type": "code",
   "execution_count": 156,
   "metadata": {
    "collapsed": false
   },
   "outputs": [
    {
     "data": {
      "text/plain": [
       "array([0])"
      ]
     },
     "execution_count": 156,
     "metadata": {},
     "output_type": "execute_result"
    }
   ],
   "source": [
    "model.predict(X_test[3][np.newaxis]).argmax(axis=1)"
   ]
  },
  {
   "cell_type": "code",
   "execution_count": 124,
   "metadata": {
    "collapsed": false
   },
   "outputs": [],
   "source": [
    "import pandas as pd\n",
    "pred_df = pd.DataFrame([pred_labels, y_test]).T\n",
    "pred_df.columns=['predictions', 'targets']"
   ]
  },
  {
   "cell_type": "code",
   "execution_count": 133,
   "metadata": {
    "collapsed": false
   },
   "outputs": [
    {
     "data": {
      "text/plain": [
       "Int64Index([  0,   1,   2,   3,   4,   5,   6,   7,   8,   9,\n",
       "            ...\n",
       "            828, 829, 830, 831, 832, 833, 834, 835, 836, 837],\n",
       "           dtype='int64', length=810)"
      ]
     },
     "execution_count": 133,
     "metadata": {},
     "output_type": "execute_result"
    }
   ],
   "source": [
    "pred_df.loc[(pred_df.predictions == 0) & (pred_df.targets == 0)].index"
   ]
  },
  {
   "cell_type": "code",
   "execution_count": 136,
   "metadata": {
    "collapsed": false
   },
   "outputs": [
    {
     "data": {
      "text/plain": [
       "<matplotlib.image.AxesImage at 0x7f84451bf690>"
      ]
     },
     "execution_count": 136,
     "metadata": {},
     "output_type": "execute_result"
    },
    {
     "data": {
      "image/png": "[encoded data removed]",
      "text/plain": [
       "<matplotlib.figure.Figure at 0x7f8445691c90>"
      ]
     },
     "metadata": {},
     "output_type": "display_data"
    }
   ],
   "source": [
    "plt.imshow(X_test[5])"
   ]
  },
  {
   "cell_type": "code",
   "execution_count": 138,
   "metadata": {
    "collapsed": false
   },
   "outputs": [
    {
     "ename": "TypeError",
     "evalue": "('Not JSON Serializable:', Dimension(1))",
     "output_type": "error",
     "traceback": [
      "\u001b[0;31m---------------------------------------------------------------------------\u001b[0m",
      "\u001b[0;31mTypeError\u001b[0m                                 Traceback (most recent call last)",
      "\u001b[0;32m<ipython-input-138-93d7047ada1a>\u001b[0m in \u001b[0;36m<module>\u001b[0;34m()\u001b[0m\n\u001b[0;32m----> 1\u001b[0;31m \u001b[0mnike_viz\u001b[0m\u001b[0;34m(\u001b[0m\u001b[0mX_test\u001b[0m\u001b[0;34m[\u001b[0m\u001b[0;36m5\u001b[0m\u001b[0;34m]\u001b[0m\u001b[0;34m)\u001b[0m\u001b[0;34m\u001b[0m\u001b[0m\n\u001b[0m",
      "\u001b[0;32m<ipython-input-137-5fa7894c53b5>\u001b[0m in \u001b[0;36m<lambda>\u001b[0;34m(img)\u001b[0m\n\u001b[1;32m      1\u001b[0m nike_viz = lambda img: visualize_cam(model, len(model.layers) - 1, filter_indices=0, seed_input=img, \n\u001b[0;32m----> 2\u001b[0;31m                                      backprop_modifier='guided')\n\u001b[0m",
      "\u001b[0;32m/home/ubuntu/anaconda2/lib/python2.7/site-packages/vis/visualization/saliency.pyc\u001b[0m in \u001b[0;36mvisualize_cam\u001b[0;34m(model, layer_idx, filter_indices, seed_input, penultimate_layer_idx, backprop_modifier, grad_modifier)\u001b[0m\n\u001b[1;32m    228\u001b[0m     \u001b[0;32mif\u001b[0m \u001b[0mbackprop_modifier\u001b[0m \u001b[0;32mis\u001b[0m \u001b[0;32mnot\u001b[0m \u001b[0mNone\u001b[0m\u001b[0;34m:\u001b[0m\u001b[0;34m\u001b[0m\u001b[0m\n\u001b[1;32m    229\u001b[0m         \u001b[0mmodifier_fn\u001b[0m \u001b[0;34m=\u001b[0m \u001b[0mget\u001b[0m\u001b[0;34m(\u001b[0m\u001b[0mbackprop_modifier\u001b[0m\u001b[0;34m)\u001b[0m\u001b[0;34m\u001b[0m\u001b[0m\n\u001b[0;32m--> 230\u001b[0;31m         \u001b[0mmodel\u001b[0m \u001b[0;34m=\u001b[0m \u001b[0mmodifier_fn\u001b[0m\u001b[0;34m(\u001b[0m\u001b[0mmodel\u001b[0m\u001b[0;34m)\u001b[0m\u001b[0;34m\u001b[0m\u001b[0m\n\u001b[0m\u001b[1;32m    231\u001b[0m \u001b[0;34m\u001b[0m\u001b[0m\n\u001b[1;32m    232\u001b[0m     \u001b[0mpenultimate_layer\u001b[0m \u001b[0;34m=\u001b[0m \u001b[0m_find_penultimate_layer\u001b[0m\u001b[0;34m(\u001b[0m\u001b[0mmodel\u001b[0m\u001b[0;34m,\u001b[0m \u001b[0mlayer_idx\u001b[0m\u001b[0;34m,\u001b[0m \u001b[0mpenultimate_layer_idx\u001b[0m\u001b[0;34m)\u001b[0m\u001b[0;34m\u001b[0m\u001b[0m\n",
      "\u001b[0;32m/home/ubuntu/anaconda2/lib/python2.7/site-packages/vis/backprop_modifiers.pyc\u001b[0m in \u001b[0;36mguided\u001b[0;34m(model)\u001b[0m\n\u001b[1;32m     15\u001b[0m         \u001b[0;34m(\u001b[0m\u001b[0mhttps\u001b[0m\u001b[0;34m:\u001b[0m\u001b[0;34m//\u001b[0m\u001b[0marxiv\u001b[0m\u001b[0;34m.\u001b[0m\u001b[0morg\u001b[0m\u001b[0;34m/\u001b[0m\u001b[0mpdf\u001b[0m\u001b[0;34m/\u001b[0m\u001b[0;36m1412.6806\u001b[0m\u001b[0;34m.\u001b[0m\u001b[0mpdf\u001b[0m\u001b[0;34m)\u001b[0m\u001b[0;34m\u001b[0m\u001b[0m\n\u001b[1;32m     16\u001b[0m     \"\"\"\n\u001b[0;32m---> 17\u001b[0;31m     \u001b[0;32mreturn\u001b[0m \u001b[0mbackend\u001b[0m\u001b[0;34m.\u001b[0m\u001b[0mmodify_model_backprop\u001b[0m\u001b[0;34m(\u001b[0m\u001b[0mmodel\u001b[0m\u001b[0;34m,\u001b[0m \u001b[0;34m'guided'\u001b[0m\u001b[0;34m)\u001b[0m\u001b[0;34m\u001b[0m\u001b[0m\n\u001b[0m\u001b[1;32m     18\u001b[0m \u001b[0;34m\u001b[0m\u001b[0m\n\u001b[1;32m     19\u001b[0m \u001b[0;34m\u001b[0m\u001b[0m\n",
      "\u001b[0;32m/home/ubuntu/anaconda2/lib/python2.7/site-packages/vis/backend/tensorflow_backend.pyc\u001b[0m in \u001b[0;36mmodify_model_backprop\u001b[0;34m(model, backprop_modifier)\u001b[0m\n\u001b[1;32m     77\u001b[0m     \u001b[0;31m# Upon loading, keras should rebuild the graph with modified activations.\u001b[0m\u001b[0;34m\u001b[0m\u001b[0;34m\u001b[0m\u001b[0m\n\u001b[1;32m     78\u001b[0m     \u001b[0mmodel_path\u001b[0m \u001b[0;34m=\u001b[0m \u001b[0;34m'/tmp/'\u001b[0m \u001b[0;34m+\u001b[0m \u001b[0mnext\u001b[0m\u001b[0;34m(\u001b[0m\u001b[0mtempfile\u001b[0m\u001b[0;34m.\u001b[0m\u001b[0m_get_candidate_names\u001b[0m\u001b[0;34m(\u001b[0m\u001b[0;34m)\u001b[0m\u001b[0;34m)\u001b[0m \u001b[0;34m+\u001b[0m \u001b[0;34m'.h5'\u001b[0m\u001b[0;34m\u001b[0m\u001b[0m\n\u001b[0;32m---> 79\u001b[0;31m     \u001b[0mmodel\u001b[0m\u001b[0;34m.\u001b[0m\u001b[0msave\u001b[0m\u001b[0;34m(\u001b[0m\u001b[0mmodel_path\u001b[0m\u001b[0;34m)\u001b[0m\u001b[0;34m\u001b[0m\u001b[0m\n\u001b[0m\u001b[1;32m     80\u001b[0m \u001b[0;34m\u001b[0m\u001b[0m\n\u001b[1;32m     81\u001b[0m     \u001b[0;31m# Restore original model to keep upstream callers unaffected.\u001b[0m\u001b[0;34m\u001b[0m\u001b[0;34m\u001b[0m\u001b[0m\n",
      "\u001b[0;32m/home/ubuntu/anaconda2/lib/python2.7/site-packages/keras/engine/topology.pyc\u001b[0m in \u001b[0;36msave\u001b[0;34m(self, filepath, overwrite, include_optimizer)\u001b[0m\n\u001b[1;32m   2504\u001b[0m         \"\"\"\n\u001b[1;32m   2505\u001b[0m         \u001b[0;32mfrom\u001b[0m \u001b[0;34m.\u001b[0m\u001b[0;34m.\u001b[0m\u001b[0mmodels\u001b[0m \u001b[0;32mimport\u001b[0m \u001b[0msave_model\u001b[0m\u001b[0;34m\u001b[0m\u001b[0m\n\u001b[0;32m-> 2506\u001b[0;31m         \u001b[0msave_model\u001b[0m\u001b[0;34m(\u001b[0m\u001b[0mself\u001b[0m\u001b[0;34m,\u001b[0m \u001b[0mfilepath\u001b[0m\u001b[0;34m,\u001b[0m \u001b[0moverwrite\u001b[0m\u001b[0;34m,\u001b[0m \u001b[0minclude_optimizer\u001b[0m\u001b[0;34m)\u001b[0m\u001b[0;34m\u001b[0m\u001b[0m\n\u001b[0m\u001b[1;32m   2507\u001b[0m \u001b[0;34m\u001b[0m\u001b[0m\n\u001b[1;32m   2508\u001b[0m     \u001b[0;32mdef\u001b[0m \u001b[0msave_weights\u001b[0m\u001b[0;34m(\u001b[0m\u001b[0mself\u001b[0m\u001b[0;34m,\u001b[0m \u001b[0mfilepath\u001b[0m\u001b[0;34m,\u001b[0m \u001b[0moverwrite\u001b[0m\u001b[0;34m=\u001b[0m\u001b[0mTrue\u001b[0m\u001b[0;34m)\u001b[0m\u001b[0;34m:\u001b[0m\u001b[0;34m\u001b[0m\u001b[0m\n",
      "\u001b[0;32m/home/ubuntu/anaconda2/lib/python2.7/site-packages/keras/models.pyc\u001b[0m in \u001b[0;36msave_model\u001b[0;34m(model, filepath, overwrite, include_optimizer)\u001b[0m\n\u001b[1;32m    105\u001b[0m         \u001b[0;34m'class_name'\u001b[0m\u001b[0;34m:\u001b[0m \u001b[0mmodel\u001b[0m\u001b[0;34m.\u001b[0m\u001b[0m__class__\u001b[0m\u001b[0;34m.\u001b[0m\u001b[0m__name__\u001b[0m\u001b[0;34m,\u001b[0m\u001b[0;34m\u001b[0m\u001b[0m\n\u001b[1;32m    106\u001b[0m         \u001b[0;34m'config'\u001b[0m\u001b[0;34m:\u001b[0m \u001b[0mmodel\u001b[0m\u001b[0;34m.\u001b[0m\u001b[0mget_config\u001b[0m\u001b[0;34m(\u001b[0m\u001b[0;34m)\u001b[0m\u001b[0;34m\u001b[0m\u001b[0m\n\u001b[0;32m--> 107\u001b[0;31m     }, default=get_json_type).encode('utf8')\n\u001b[0m\u001b[1;32m    108\u001b[0m \u001b[0;34m\u001b[0m\u001b[0m\n\u001b[1;32m    109\u001b[0m     \u001b[0mmodel_weights_group\u001b[0m \u001b[0;34m=\u001b[0m \u001b[0mf\u001b[0m\u001b[0;34m.\u001b[0m\u001b[0mcreate_group\u001b[0m\u001b[0;34m(\u001b[0m\u001b[0;34m'model_weights'\u001b[0m\u001b[0;34m)\u001b[0m\u001b[0;34m\u001b[0m\u001b[0m\n",
      "\u001b[0;32m/home/ubuntu/anaconda2/lib/python2.7/json/__init__.pyc\u001b[0m in \u001b[0;36mdumps\u001b[0;34m(obj, skipkeys, ensure_ascii, check_circular, allow_nan, cls, indent, separators, encoding, default, sort_keys, **kw)\u001b[0m\n\u001b[1;32m    249\u001b[0m         \u001b[0mcheck_circular\u001b[0m\u001b[0;34m=\u001b[0m\u001b[0mcheck_circular\u001b[0m\u001b[0;34m,\u001b[0m \u001b[0mallow_nan\u001b[0m\u001b[0;34m=\u001b[0m\u001b[0mallow_nan\u001b[0m\u001b[0;34m,\u001b[0m \u001b[0mindent\u001b[0m\u001b[0;34m=\u001b[0m\u001b[0mindent\u001b[0m\u001b[0;34m,\u001b[0m\u001b[0;34m\u001b[0m\u001b[0m\n\u001b[1;32m    250\u001b[0m         \u001b[0mseparators\u001b[0m\u001b[0;34m=\u001b[0m\u001b[0mseparators\u001b[0m\u001b[0;34m,\u001b[0m \u001b[0mencoding\u001b[0m\u001b[0;34m=\u001b[0m\u001b[0mencoding\u001b[0m\u001b[0;34m,\u001b[0m \u001b[0mdefault\u001b[0m\u001b[0;34m=\u001b[0m\u001b[0mdefault\u001b[0m\u001b[0;34m,\u001b[0m\u001b[0;34m\u001b[0m\u001b[0m\n\u001b[0;32m--> 251\u001b[0;31m         sort_keys=sort_keys, **kw).encode(obj)\n\u001b[0m\u001b[1;32m    252\u001b[0m \u001b[0;34m\u001b[0m\u001b[0m\n\u001b[1;32m    253\u001b[0m \u001b[0;34m\u001b[0m\u001b[0m\n",
      "\u001b[0;32m/home/ubuntu/anaconda2/lib/python2.7/json/encoder.pyc\u001b[0m in \u001b[0;36mencode\u001b[0;34m(self, o)\u001b[0m\n\u001b[1;32m    205\u001b[0m         \u001b[0;31m# exceptions aren't as detailed.  The list call should be roughly\u001b[0m\u001b[0;34m\u001b[0m\u001b[0;34m\u001b[0m\u001b[0m\n\u001b[1;32m    206\u001b[0m         \u001b[0;31m# equivalent to the PySequence_Fast that ''.join() would do.\u001b[0m\u001b[0;34m\u001b[0m\u001b[0;34m\u001b[0m\u001b[0m\n\u001b[0;32m--> 207\u001b[0;31m         \u001b[0mchunks\u001b[0m \u001b[0;34m=\u001b[0m \u001b[0mself\u001b[0m\u001b[0;34m.\u001b[0m\u001b[0miterencode\u001b[0m\u001b[0;34m(\u001b[0m\u001b[0mo\u001b[0m\u001b[0;34m,\u001b[0m \u001b[0m_one_shot\u001b[0m\u001b[0;34m=\u001b[0m\u001b[0mTrue\u001b[0m\u001b[0;34m)\u001b[0m\u001b[0;34m\u001b[0m\u001b[0m\n\u001b[0m\u001b[1;32m    208\u001b[0m         \u001b[0;32mif\u001b[0m \u001b[0;32mnot\u001b[0m \u001b[0misinstance\u001b[0m\u001b[0;34m(\u001b[0m\u001b[0mchunks\u001b[0m\u001b[0;34m,\u001b[0m \u001b[0;34m(\u001b[0m\u001b[0mlist\u001b[0m\u001b[0;34m,\u001b[0m \u001b[0mtuple\u001b[0m\u001b[0;34m)\u001b[0m\u001b[0;34m)\u001b[0m\u001b[0;34m:\u001b[0m\u001b[0;34m\u001b[0m\u001b[0m\n\u001b[1;32m    209\u001b[0m             \u001b[0mchunks\u001b[0m \u001b[0;34m=\u001b[0m \u001b[0mlist\u001b[0m\u001b[0;34m(\u001b[0m\u001b[0mchunks\u001b[0m\u001b[0;34m)\u001b[0m\u001b[0;34m\u001b[0m\u001b[0m\n",
      "\u001b[0;32m/home/ubuntu/anaconda2/lib/python2.7/json/encoder.pyc\u001b[0m in \u001b[0;36miterencode\u001b[0;34m(self, o, _one_shot)\u001b[0m\n\u001b[1;32m    268\u001b[0m                 \u001b[0mself\u001b[0m\u001b[0;34m.\u001b[0m\u001b[0mkey_separator\u001b[0m\u001b[0;34m,\u001b[0m \u001b[0mself\u001b[0m\u001b[0;34m.\u001b[0m\u001b[0mitem_separator\u001b[0m\u001b[0;34m,\u001b[0m \u001b[0mself\u001b[0m\u001b[0;34m.\u001b[0m\u001b[0msort_keys\u001b[0m\u001b[0;34m,\u001b[0m\u001b[0;34m\u001b[0m\u001b[0m\n\u001b[1;32m    269\u001b[0m                 self.skipkeys, _one_shot)\n\u001b[0;32m--> 270\u001b[0;31m         \u001b[0;32mreturn\u001b[0m \u001b[0m_iterencode\u001b[0m\u001b[0;34m(\u001b[0m\u001b[0mo\u001b[0m\u001b[0;34m,\u001b[0m \u001b[0;36m0\u001b[0m\u001b[0;34m)\u001b[0m\u001b[0;34m\u001b[0m\u001b[0m\n\u001b[0m\u001b[1;32m    271\u001b[0m \u001b[0;34m\u001b[0m\u001b[0m\n\u001b[1;32m    272\u001b[0m def _make_iterencode(markers, _default, _encoder, _indent, _floatstr,\n",
      "\u001b[0;32m/home/ubuntu/anaconda2/lib/python2.7/site-packages/keras/models.pyc\u001b[0m in \u001b[0;36mget_json_type\u001b[0;34m(obj)\u001b[0m\n\u001b[1;32m     89\u001b[0m             \u001b[0;32mreturn\u001b[0m \u001b[0mobj\u001b[0m\u001b[0;34m.\u001b[0m\u001b[0m__name__\u001b[0m\u001b[0;34m\u001b[0m\u001b[0m\n\u001b[1;32m     90\u001b[0m \u001b[0;34m\u001b[0m\u001b[0m\n\u001b[0;32m---> 91\u001b[0;31m         \u001b[0;32mraise\u001b[0m \u001b[0mTypeError\u001b[0m\u001b[0;34m(\u001b[0m\u001b[0;34m'Not JSON Serializable:'\u001b[0m\u001b[0;34m,\u001b[0m \u001b[0mobj\u001b[0m\u001b[0;34m)\u001b[0m\u001b[0;34m\u001b[0m\u001b[0m\n\u001b[0m\u001b[1;32m     92\u001b[0m \u001b[0;34m\u001b[0m\u001b[0m\n\u001b[1;32m     93\u001b[0m     \u001b[0;32mfrom\u001b[0m \u001b[0;34m.\u001b[0m \u001b[0;32mimport\u001b[0m \u001b[0m__version__\u001b[0m \u001b[0;32mas\u001b[0m \u001b[0mkeras_version\u001b[0m\u001b[0;34m\u001b[0m\u001b[0m\n",
      "\u001b[0;31mTypeError\u001b[0m: ('Not JSON Serializable:', Dimension(1))"
     ]
    }
   ],
   "source": [
    "nike_viz(X_test[5])"
   ]
  },
  {
   "cell_type": "code",
   "execution_count": 122,
   "metadata": {
    "collapsed": false
   },
   "outputs": [],
   "source": [
    "import os\n",
    "from scipy.misc import imsave \n",
    "\n",
    "def convert_arr_to_jpeg(brand, path='lateral_keras/train/'):\n",
    "    abs_path = os.path.join(path, str(brand))\n",
    "    fnames = os.listdir(abs_path)\n",
    "    for fname in fnames: \n",
    "        try:\n",
    "            fpath = os.path.join(abs_path, fname)\n",
    "            img_arr = np.load(fpath)\n",
    "            imsave(fpath + '.jpeg', img_arr)\n",
    "            print \"Successfully Converted: \", fpath\n",
    "        except Exception as e:\n",
    "            print e, fpath\n",
    "            pass "
   ]
  },
  {
   "cell_type": "code",
   "execution_count": 131,
   "metadata": {
    "collapsed": false
   },
   "outputs": [
    {
     "name": "stdout",
     "output_type": "stream",
     "text": [
      "Successfully Converted:  ./test/5/5_6856_37663\n",
      "Successfully Converted:  ./test/5/5_4443_2537\n",
      "Successfully Converted:  ./test/5/5_579_626898\n",
      "Successfully Converted:  ./test/5/5_830_49249\n",
      "Successfully Converted:  ./test/5/5_6752_629946\n",
      "Successfully Converted:  ./test/5/5_1362_663950\n",
      "Successfully Converted:  ./test/5/5_7375_648218\n",
      "Successfully Converted:  ./test/5/5_4573_645571\n",
      "Successfully Converted:  ./test/5/5_6300_600956\n",
      "Successfully Converted:  ./test/5/5_1576_626900\n",
      "Successfully Converted:  ./test/5/5_8805_591963\n",
      "Successfully Converted:  ./test/5/5_5537_495870\n",
      "Successfully Converted:  ./test/5/5_4753_634408\n",
      "Successfully Converted:  ./test/5/5_4699_631906\n",
      "Successfully Converted:  ./test/5/5_3687_659714\n",
      "Successfully Converted:  ./test/5/5_5806_552963\n",
      "Successfully Converted:  ./test/5/5_8321_659859\n",
      "Successfully Converted:  ./test/5/5_304_659530\n",
      "Successfully Converted:  ./test/5/5_533_24150\n",
      "Successfully Converted:  ./test/5/5_3423_629324\n",
      "Successfully Converted:  ./test/5/5_6931_151\n",
      "Successfully Converted:  ./test/5/5_4145_742\n",
      "Successfully Converted:  ./test/5/5_5511_550786\n",
      "Successfully Converted:  ./test/5/5_7574_151\n",
      "Successfully Converted:  ./test/5/5_3083_4466\n",
      "Successfully Converted:  ./test/5/5_4233_629298\n",
      "Successfully Converted:  ./test/5/5_7938_579473\n",
      "Successfully Converted:  ./test/5/5_4840_552604\n",
      "Successfully Converted:  ./test/5/5_1437_642575\n",
      "Successfully Converted:  ./test/5/5_3784_135844\n",
      "Successfully Converted:  ./test/5/5_8218_645579\n",
      "Successfully Converted:  ./test/5/5_5896_569378\n",
      "Successfully Converted:  ./test/5/5_479_661384\n",
      "Successfully Converted:  ./test/5/5_6652_679352\n",
      "Successfully Converted:  ./test/5/5_3820_21766\n",
      "Successfully Converted:  ./test/5/5_3083_659822\n",
      "Successfully Converted:  ./test/5/5_5331_501307\n",
      "Successfully Converted:  ./test/5/5_3354_663757\n",
      "Successfully Converted:  ./test/5/5_4221_166208\n",
      "Successfully Converted:  ./test/5/5_4863_615850\n",
      "Successfully Converted:  ./test/5/5_7571_665419\n",
      "Successfully Converted:  ./test/5/5_1362_64603\n",
      "Successfully Converted:  ./test/5/5_7468_568671\n",
      "Successfully Converted:  ./test/5/5_6652_4466\n",
      "Successfully Converted:  ./test/5/5_3309_659714\n",
      "Successfully Converted:  ./test/5/5_208_663332\n",
      "Successfully Converted:  ./test/5/5_6576_648571\n",
      "Successfully Converted:  ./test/5/5_4443_151\n",
      "Successfully Converted:  ./test/5/5_4840_552698\n",
      "Successfully Converted:  ./test/5/5_2990_678531\n",
      "Successfully Converted:  ./test/5/5_3943_660245\n",
      "Successfully Converted:  ./test/5/5_5192_8209\n",
      "Successfully Converted:  ./test/5/5_349_634407\n",
      "Successfully Converted:  ./test/5/5_7673_5078\n",
      "Successfully Converted:  ./test/5/5_4233_536951\n",
      "Successfully Converted:  ./test/5/5_7524_694872\n",
      "Successfully Converted:  ./test/5/5_3854_690033\n",
      "Successfully Converted:  ./test/5/5_7467_600167\n",
      "Successfully Converted:  ./test/5/5_2006_659915\n",
      "Successfully Converted:  ./test/5/5_2207_626870\n",
      "Successfully Converted:  ./test/5/5_4046_11196\n",
      "Successfully Converted:  ./test/5/5_753_660269\n",
      "Successfully Converted:  ./test/5/5_4145_629417\n",
      "Successfully Converted:  ./test/5/5_7773_642349\n",
      "Successfully Converted:  ./test/5/5_6334_600300\n",
      "Successfully Converted:  ./test/5/5_7575_665398\n",
      "Successfully Converted:  ./test/5/5_1362_663949\n",
      "Successfully Converted:  ./test/5/5_8850_755\n",
      "Successfully Converted:  ./test/5/5_4503_663534\n",
      "Successfully Converted:  ./test/5/5_4463_662276\n",
      "Successfully Converted:  ./test/5/5_6745_636137\n",
      "Successfully Converted:  ./test/5/5_4523_513\n",
      "Successfully Converted:  ./test/5/5_7674_595656\n",
      "Successfully Converted:  ./test/5/5_6679_665345\n",
      "Successfully Converted:  ./test/5/5_5974_204084\n",
      "Successfully Converted:  ./test/5/5_8131_29630\n",
      "Successfully Converted:  ./test/5/5_5406_535674\n",
      "Successfully Converted:  ./test/5/5_5813_552963\n",
      "Successfully Converted:  ./test/5/5_4049_663915\n",
      "Successfully Converted:  ./test/5/5_5054_584807\n",
      "Successfully Converted:  ./test/5/5_7452_680965\n",
      "Successfully Converted:  ./test/5/5_5511_550789\n",
      "Successfully Converted:  ./test/5/5_7527_21766\n",
      "Successfully Converted:  ./test/5/5_7425_560962\n",
      "Successfully Converted:  ./test/5/5_3760_7968\n",
      "Successfully Converted:  ./test/5/5_2610_89649\n",
      "Successfully Converted:  ./test/5/5_208_663330\n",
      "Successfully Converted:  ./test/5/5_5712_642400\n",
      "Successfully Converted:  ./test/5/5_8320_135844\n",
      "Successfully Converted:  ./test/5/5_5760_569382\n",
      "Successfully Converted:  ./test/5/5_4476_665340\n",
      "Successfully Converted:  ./test/5/5_6577_648571\n",
      "Successfully Converted:  ./test/5/5_2990_663902\n",
      "Successfully Converted:  ./test/5/5_4002_607865\n",
      "Successfully Converted:  ./test/5/5_8808_560786\n",
      "Successfully Converted:  ./test/5/5_4463_529795\n",
      "Successfully Converted:  ./test/5/5_2969_288939\n",
      "Successfully Converted:  ./test/5/5_879_627898\n",
      "Successfully Converted:  ./test/5/5_4492_663580\n",
      "Successfully Converted:  ./test/5/5_2930_629325\n",
      "Successfully Converted:  ./test/5/5_3423_629325\n",
      "Successfully Converted:  ./test/5/5_6334_600301\n",
      "Successfully Converted:  ./test/5/5_4148_567445\n",
      "Successfully Converted:  ./test/5/5_3991_551569\n",
      "Successfully Converted:  ./test/5/5_3108_659727\n",
      "Successfully Converted:  ./test/5/5_4145_600526\n",
      "Successfully Converted:  ./test/5/5_753_664123\n",
      "Successfully Converted:  ./test/5/5_4502_665325\n",
      "Successfully Converted:  ./test/5/5_6931_591169\n",
      "Successfully Converted:  ./test/5/5_1157_554016\n",
      "Successfully Converted:  ./test/5/5_2203_459482\n",
      "Successfully Converted:  ./test/5/5_5178_552689\n",
      "Successfully Converted:  ./test/5/5_6938_629298\n",
      "Successfully Converted:  ./test/5/5_8272_629965\n",
      "Successfully Converted:  ./test/5/5_2969_645810\n",
      "Successfully Converted:  ./test/5/5_6041_585544\n",
      "Successfully Converted:  ./test/5/5_4520_1522\n",
      "Successfully Converted:  ./test/5/5_3394_660289\n",
      "Successfully Converted:  ./test/5/5_660_607880\n",
      "Successfully Converted:  ./test/5/5_2006_659916\n",
      "Successfully Converted:  ./test/5/5_683_626985\n",
      "Successfully Converted:  ./test/5/5_6446_31320\n",
      "Successfully Converted:  ./test/5/5_7926_61097\n",
      "Successfully Converted:  ./test/5/5_3556_600075\n",
      "Successfully Converted:  ./test/5/5_4492_663581\n",
      "Successfully Converted:  ./test/5/5_3556_605200\n",
      "Successfully Converted:  ./test/5/5_7828_615841\n",
      "Successfully Converted:  ./test/5/5_336_1001\n",
      "Successfully Converted:  ./test/5/5_4231_660258\n",
      "Successfully Converted:  ./test/5/5_6679_284641\n",
      "Successfully Converted:  ./test/5/5_8544_599105\n",
      "Successfully Converted:  ./test/5/5_7454_15577\n",
      "Successfully Converted:  ./test/5/5_533_610620\n",
      "Successfully Converted:  ./test/5/5_6309_607842\n",
      "Successfully Converted:  ./test/5/5_4573_645570\n",
      "Successfully Converted:  ./test/5/5_2728_678492\n",
      "Successfully Converted:  ./test/5/5_7105_626874\n",
      "Successfully Converted:  ./test/5/5_5830_560663\n",
      "Successfully Converted:  ./test/5/5_5443_540146\n",
      "Successfully Converted:  ./test/5/5_7581_665376\n",
      "Successfully Converted:  ./test/5/5_5410_288371\n",
      "Successfully Converted:  ./test/5/5_5410_569407\n",
      "Successfully Converted:  ./test/5/5_8236_26764\n",
      "Successfully Converted:  ./test/5/5_5442_537285\n",
      "Successfully Converted:  ./test/5/5_7679_742\n",
      "Successfully Converted:  ./test/5/5_4175_536951\n",
      "Successfully Converted:  ./test/5/5_7584_595300\n",
      "Successfully Converted:  ./test/5/5_5413_537577\n",
      "Successfully Converted:  ./test/5/5_7509_566847\n",
      "Successfully Converted:  ./test/5/5_4148_535285\n",
      "Successfully Converted:  ./test/5/5_4148_567451\n",
      "Successfully Converted:  ./test/5/5_1362_11196\n",
      "Successfully Converted:  ./test/5/5_5586_529789\n",
      "Successfully Converted:  ./test/5/5_5460_189778\n",
      "Successfully Converted:  ./test/5/5_5312_87769\n",
      "Successfully Converted:  ./test/5/5_1576_626908\n",
      "Successfully Converted:  ./test/5/5_6397_31878\n",
      "Successfully Converted:  ./test/5/5_278_719212\n",
      "Successfully Converted:  ./test/5/5_699_490050\n",
      "Successfully Converted:  ./test/5/5_4524_595654\n",
      "Successfully Converted:  ./test/5/5_6573_529795\n",
      "Successfully Converted:  ./test/5/5_6568_529795\n",
      "Successfully Converted:  ./test/5/5_6024_518091\n",
      "Successfully Converted:  ./test/5/5_8131_551612\n",
      "Successfully Converted:  ./test/5/5_3748_660254\n",
      "Successfully Converted:  ./test/5/5_4104_642409\n",
      "Successfully Converted:  ./test/5/5_8320_457886\n",
      "Successfully Converted:  ./test/5/5_8752_720713\n",
      "Successfully Converted:  ./test/5/5_7011_151\n",
      "Successfully Converted:  ./test/5/5_431_550787\n",
      "Successfully Converted:  ./test/5/5_1004_659714\n",
      "Successfully Converted:  ./test/5/5_612_593554\n",
      "Successfully Converted:  ./test/5/5_8213_632332\n",
      "Successfully Converted:  ./test/5/5_5972_613744\n",
      "Successfully Converted:  ./test/5/5_8377_642635\n",
      "Successfully Converted:  ./test/5/5_741_585041\n",
      "Successfully Converted:  ./test/5/5_7488_24150\n",
      "Successfully Converted:  ./test/5/5_4145_629416\n",
      "Successfully Converted:  ./test/5/5_4002_607889\n",
      "Successfully Converted:  ./test/5/5_7679_151\n",
      "Successfully Converted:  ./test/5/5_226_663750\n",
      "Successfully Converted:  ./test/5/5_3664_661346\n",
      "Successfully Converted:  ./test/5/5_5586_600144\n",
      "Successfully Converted:  ./test/5/5_2237_626832\n",
      "Successfully Converted:  ./test/5/5_4180_717119\n",
      "Successfully Converted:  ./test/5/5_4228_742\n",
      "Successfully Converted:  ./test/5/5_4569_529795\n",
      "Successfully Converted:  ./test/5/5_8796_626874\n",
      "Successfully Converted:  ./test/5/5_5462_497086\n",
      "Successfully Converted:  ./test/5/5_7974_660309\n",
      "Successfully Converted:  ./test/5/5_6238_140259\n",
      "Successfully Converted:  ./test/5/5_5178_552690\n",
      "Successfully Converted:  ./test/5/5_6770_636142\n",
      "Successfully Converted:  ./test/5/5_3124_64787\n",
      "Successfully Converted:  ./test/5/5_3341_663311\n",
      "Successfully Converted:  ./test/5/5_5137_569410\n",
      "Successfully Converted:  ./test/5/5_4694_629298\n",
      "Successfully Converted:  ./test/5/5_450_638393\n",
      "Successfully Converted:  ./test/5/5_219_679665\n",
      "Successfully Converted:  ./test/5/5_3276_642628\n",
      "Successfully Converted:  ./test/5/5_4496_597941\n",
      "Successfully Converted:  ./test/5/5_1576_600248\n",
      "Successfully Converted:  ./test/5/5_4228_135844\n",
      "Successfully Converted:  ./test/5/5_2436_600566\n",
      "Successfully Converted:  ./test/5/5_8236_566765\n",
      "Successfully Converted:  ./test/5/5_8134_680400\n",
      "Successfully Converted:  ./test/5/5_7547_529851\n",
      "Successfully Converted:  ./test/5/5_3770_4478\n",
      "Successfully Converted:  ./test/5/5_533_346811\n",
      "Successfully Converted:  ./test/5/5_2610_599553\n",
      "Successfully Converted:  ./test/5/5_879_8282\n",
      "Successfully Converted:  ./test/5/5_7527_634052\n",
      "Successfully Converted:  ./test/5/5_7312_631876\n",
      "Successfully Converted:  ./test/5/5_3276_659822\n",
      "Successfully Converted:  ./test/5/5_4463_665313\n",
      "Successfully Converted:  ./test/5/5_6953_626843\n",
      "Successfully Converted:  ./test/5/5_4378_644828\n",
      "Successfully Converted:  ./test/5/5_4927_600273\n",
      "Successfully Converted:  ./test/5/5_7421_634049\n",
      "Successfully Converted:  ./test/5/5_7375_1001\n",
      "Successfully Converted:  ./test/5/5_8545_648578\n",
      "Successfully Converted:  ./test/5/5_7634_3\n",
      "Successfully Converted:  ./test/5/5_5205_537286\n",
      "Successfully Converted:  ./test/5/5_3997_6199\n",
      "Successfully Converted:  ./test/5/5_5494_540110\n",
      "Successfully Converted:  ./test/5/5_830_668710\n",
      "Successfully Converted:  ./test/5/5_3760_151\n",
      "Successfully Converted:  ./test/5/5_2439_638360\n",
      "Successfully Converted:  ./test/5/5_6693_652770\n",
      "Successfully Converted:  ./test/5/5_6743_632254\n",
      "Successfully Converted:  ./test/5/5_5668_569413\n",
      "Successfully Converted:  ./test/5/5_4700_536951\n",
      "Successfully Converted:  ./test/5/5_7391_141405\n",
      "Successfully Converted:  ./test/5/5_6187_89649\n",
      "Successfully Converted:  ./test/5/5_7624_12309\n",
      "Successfully Converted:  ./test/5/5_4828_600575\n",
      "Successfully Converted:  ./test/5/5_3748_660253\n",
      "Successfully Converted:  ./test/5/5_6569_599102\n",
      "Successfully Converted:  ./test/5/5_5594_122521\n",
      "Successfully Converted:  ./test/5/5_4501_665358\n",
      "Successfully Converted:  ./test/5/5_4049_64629\n",
      "Successfully Converted:  ./test/5/5_4212_29630\n",
      "Successfully Converted:  ./test/5/5_6024_663950\n",
      "Successfully Converted:  ./test/5/5_7544_696972\n",
      "Successfully Converted:  ./test/5/5_8218_664681\n",
      "Successfully Converted:  ./test/5/5_4620_600260\n",
      "Successfully Converted:  ./test/5/5_7624_662275\n",
      "Successfully Converted:  ./test/5/5_683_600248\n",
      "Successfully Converted:  ./test/5/5_7011_21766\n",
      "Successfully Converted:  ./test/5/5_5410_537570\n",
      "Successfully Converted:  ./test/5/5_7999_468675\n",
      "Successfully Converted:  ./test/5/5_7581_665377\n",
      "Successfully Converted:  ./test/5/5_4443_665950\n",
      "Successfully Converted:  ./test/5/5_2307_632974\n",
      "Successfully Converted:  ./test/5/5_6716_629297\n",
      "Successfully Converted:  ./test/5/5_271_632205\n",
      "Successfully Converted:  ./test/5/5_4524_665367\n",
      "Successfully Converted:  ./test/5/5_7624_665399\n",
      "Successfully Converted:  ./test/5/5_4501_1066\n",
      "Successfully Converted:  ./test/5/5_247_661396\n",
      "Successfully Converted:  ./test/5/5_5515_537261\n",
      "Successfully Converted:  ./test/5/5_5514_551114\n",
      "Successfully Converted:  ./test/5/5_8781_926\n",
      "Successfully Converted:  ./test/5/5_5207_550814\n",
      "Successfully Converted:  ./test/5/5_4503_663532\n",
      "Successfully Converted:  ./test/5/5_660_607878\n",
      "Successfully Converted:  ./test/5/5_5912_552963\n",
      "Successfully Converted:  ./test/5/5_5594_552766\n",
      "Successfully Converted:  ./test/5/5_336_536907\n",
      "Successfully Converted:  ./test/5/5_450_638396\n",
      "Successfully Converted:  ./test/5/5_3964_11541\n",
      "Successfully Converted:  ./test/5/5_6944_634022\n",
      "Successfully Converted:  ./test/5/5_4947_600292\n",
      "Successfully Converted:  ./test/5/5_4443_742\n",
      "Successfully Converted:  ./test/5/5_4473_151\n",
      "Successfully Converted:  ./test/5/5_6938_659802\n",
      "Successfully Converted:  ./test/5/5_4378_644830\n",
      "Successfully Converted:  ./test/5/5_2728_663557\n",
      "Successfully Converted:  ./test/5/5_562_667501\n",
      "Successfully Converted:  ./test/5/5_7343_14\n",
      "Successfully Converted:  ./test/5/5_6795_10668\n",
      "Successfully Converted:  ./test/5/5_5565_552703\n",
      "Successfully Converted:  ./test/5/5_6938_4478\n",
      "Successfully Converted:  ./test/5/5_6550_615846\n",
      "Successfully Converted:  ./test/5/5_2203_626998\n",
      "Successfully Converted:  ./test/5/5_1790_661369\n",
      "Successfully Converted:  ./test/5/5_3447_663535\n",
      "Successfully Converted:  ./test/5/5_2697_678550\n",
      "Successfully Converted:  ./test/5/5_4962_639594\n",
      "Successfully Converted:  ./test/5/5_2969_645813\n",
      "Successfully Converted:  ./test/5/5_8664_629952\n",
      "Successfully Converted:  ./test/5/5_741_661820\n",
      "Successfully Converted:  ./test/5/5_5678_567454\n",
      "Successfully Converted:  ./test/5/5_6946_9214\n",
      "Successfully Converted:  ./test/5/5_4462_703548\n",
      "Successfully Converted:  ./test/5/5_2697_645796\n",
      "Successfully Converted:  ./test/5/5_271_597610\n",
      "Successfully Converted:  ./test/5/5_6944_667476\n",
      "Successfully Converted:  ./test/5/5_2967_645764\n",
      "Successfully Converted:  ./test/5/5_151_659864\n",
      "Successfully Converted:  ./test/5/5_4703_599078\n",
      "Successfully Converted:  ./test/5/5_7385_542530\n",
      "Successfully Converted:  ./test/5/5_6353_600023\n",
      "Successfully Converted:  ./test/5/5_3095_659837\n",
      "Successfully Converted:  ./test/5/5_7509_665379\n",
      "Successfully Converted:  ./test/5/5_4581_584808\n",
      "Successfully Converted:  ./test/5/5_6652_628485\n",
      "Successfully Converted:  ./test/5/5_7375_3764\n",
      "Successfully Converted:  ./test/5/5_2828_659714\n",
      "Successfully Converted:  ./test/5/5_7575_183092\n",
      "Successfully Converted:  ./test/5/5_344_251860\n",
      "Successfully Converted:  ./test/5/5_5207_295006\n",
      "Successfully Converted:  ./test/5/5_5476_550822\n",
      "Successfully Converted:  ./test/5/5_4523_553967\n",
      "Successfully Converted:  ./test/5/5_4040_679668\n",
      "Successfully Converted:  ./test/5/5_3137_663300\n",
      "Successfully Converted:  ./test/5/5_4948_600858\n",
      "Successfully Converted:  ./test/5/5_4476_665339\n",
      "Successfully Converted:  ./test/5/5_3997_151\n",
      "Successfully Converted:  ./test/5/5_5596_64787\n",
      "Successfully Converted:  ./test/5/5_8781_568851\n",
      "Successfully Converted:  ./test/5/5_7575_755\n",
      "Successfully Converted:  ./test/5/5_4579_4564\n",
      "Successfully Converted:  ./test/5/5_5673_595798\n",
      "Successfully Converted:  ./test/5/5_4444_665395\n",
      "Successfully Converted:  ./test/5/5_2463_663594\n",
      "Successfully Converted:  ./test/5/5_5630_40425\n",
      "Successfully Converted:  ./test/5/5_4522_665367\n",
      "Successfully Converted:  ./test/5/5_3123_40425\n",
      "Successfully Converted:  ./test/5/5_5301_493877\n",
      "Successfully Converted:  ./test/5/5_6024_663949\n",
      "Successfully Converted:  ./test/5/5_4523_597569\n",
      "Successfully Converted:  ./test/5/5_5550_11196\n",
      "Successfully Converted:  ./test/5/5_5401_569405\n",
      "Successfully Converted:  ./test/5/5_2727_663529\n",
      "Successfully Converted:  ./test/5/5_6223_600199\n",
      "Successfully Converted:  ./test/5/5_5688_569399\n",
      "Successfully Converted:  ./test/5/5_4180_11541\n",
      "Successfully Converted:  ./test/5/5_7820_90874\n",
      "Successfully Converted:  ./test/5/5_5813_151\n",
      "Successfully Converted:  ./test/5/5_2967_663554\n",
      "Successfully Converted:  ./test/5/5_4626_627024\n",
      "Successfully Converted:  ./test/5/5_5413_537578\n",
      "Successfully Converted:  ./test/5/5_6334_600298\n",
      "Successfully Converted:  ./test/5/5_2402_626850\n",
      "Successfully Converted:  ./test/5/5_533_678538\n",
      "Successfully Converted:  ./test/5/5_4148_535509\n",
      "Successfully Converted:  ./test/5/5_5862_560785\n",
      "Successfully Converted:  ./test/5/5_5678_490515\n",
      "Successfully Converted:  ./test/5/5_4476_597370\n",
      "Successfully Converted:  ./test/5/5_6397_742\n",
      "Successfully Converted:  ./test/5/5_208_663324\n",
      "Successfully Converted:  ./test/5/5_6575_648571\n",
      "Successfully Converted:  ./test/5/5_431_550786\n",
      "Successfully Converted:  ./test/5/5_5421_537586\n",
      "Successfully Converted:  ./test/5/5_8384_135844\n",
      "Successfully Converted:  ./test/5/5_7579_151\n",
      "Successfully Converted:  ./test/5/5_2203_626996\n",
      "Successfully Converted:  ./test/5/5_8046_537348\n",
      "Successfully Converted:  ./test/5/5_4840_635510\n",
      "Successfully Converted:  ./test/5/5_6353_600022\n",
      "Successfully Converted:  ./test/5/5_5054_584806\n",
      "Successfully Converted:  ./test/5/5_5453_535164\n",
      "Successfully Converted:  ./test/5/5_5499_174153\n",
      "Successfully Converted:  ./test/5/5_271_679323\n",
      "Successfully Converted:  ./test/5/5_8503_663323\n",
      "Successfully Converted:  ./test/5/5_4703_599103\n",
      "Successfully Converted:  ./test/5/5_7487_585254\n",
      "Successfully Converted:  ./test/5/5_3839_690034\n",
      "Successfully Converted:  ./test/5/5_5486_551635\n",
      "Successfully Converted:  ./test/5/5_5514_551117\n",
      "Successfully Converted:  ./test/5/5_5401_537564\n",
      "Successfully Converted:  ./test/5/5_3097_644409\n",
      "Successfully Converted:  ./test/5/5_5514_550801\n",
      "Successfully Converted:  ./test/5/5_3840_690034\n",
      "Successfully Converted:  ./test/5/5_3350_664685\n",
      "Successfully Converted:  ./test/5/5_5495_540130\n",
      "Successfully Converted:  ./test/5/5_5323_494548\n",
      "Successfully Converted:  ./test/5/5_6944_634020\n",
      "Successfully Converted:  ./test/5/5_3770_659714\n",
      "Successfully Converted:  ./test/5/5_4233_659715\n",
      "Successfully Converted:  ./test/5/5_741_661425\n",
      "Successfully Converted:  ./test/5/5_7974_660310\n",
      "Successfully Converted:  ./test/5/5_4626_627022\n",
      "Successfully Converted:  ./test/5/5_2828_659715\n",
      "Successfully Converted:  ./test/5/5_5207_550813\n",
      "Successfully Converted:  ./test/5/5_7883_89649\n",
      "Successfully Converted:  ./test/5/5_7589_14\n",
      "Successfully Converted:  ./test/5/5_2490_607950\n",
      "Successfully Converted:  ./test/5/5_4463_534917\n",
      "Successfully Converted:  ./test/5/5_397_678540\n",
      "Successfully Converted:  ./test/5/5_6446_597562\n",
      "Successfully Converted:  ./test/5/5_5416_537536\n",
      "Successfully Converted:  ./test/5/5_3000_607963\n",
      "Successfully Converted:  ./test/5/5_6029_584807\n",
      "Successfully Converted:  ./test/5/5_263_661815\n",
      "Successfully Converted:  ./test/5/5_4492_663572\n",
      "Successfully Converted:  ./test/5/5_7419_536951\n",
      "Successfully Converted:  ./test/5/5_8687_720718\n",
      "Successfully Converted:  ./test/5/5_5511_551101\n",
      "Successfully Converted:  ./test/5/5_571_679667\n",
      "Successfully Converted:  ./test/5/5_16_663912\n",
      "Successfully Converted:  ./test/5/5_5137_569001\n",
      "Successfully Converted:  ./test/5/5_6968_599078\n",
      "Successfully Converted:  ./test/5/5_271_64603\n",
      "Successfully Converted:  ./test/5/5_3851_690033\n",
      "Successfully Converted:  ./test/5/5_3844_690034\n",
      "Successfully Converted:  ./test/5/5_4492_663573\n",
      "Successfully Converted:  ./test/5/5_7454_542547\n",
      "Successfully Converted:  ./test/5/5_2930_659814\n",
      "Successfully Converted:  ./test/5/5_5301_551079\n",
      "Successfully Converted:  ./test/5/5_16_389620\n",
      "Successfully Converted:  ./test/5/5_533_474274\n",
      "Successfully Converted:  ./test/5/5_5712_3\n",
      "Successfully Converted:  ./test/5/5_533_645935\n",
      "Successfully Converted:  ./test/5/5_7546_495897\n",
      "Successfully Converted:  ./test/5/5_3260_669909\n",
      "Successfully Converted:  ./test/5/5_7208_644843\n",
      "Successfully Converted:  ./test/5/5_7087_637740\n",
      "Successfully Converted:  ./test/5/5_4503_663531\n",
      "Successfully Converted:  ./test/5/5_7597_661832\n",
      "Successfully Converted:  ./test/5/5_8384_569539\n",
      "Successfully Converted:  ./test/5/5_6581_615858\n",
      "Successfully Converted:  ./test/5/5_5563_552789\n",
      "Successfully Converted:  ./test/5/5_2480_663520\n",
      "Successfully Converted:  ./test/5/5_4473_665370\n",
      "Successfully Converted:  ./test/5/5_7383_228828\n",
      "Successfully Converted:  ./test/5/5_6397_21766\n",
      "Successfully Converted:  ./test/5/5_7571_31320\n",
      "Successfully Converted:  ./test/5/5_6446_665346\n",
      "Successfully Converted:  ./test/5/5_2610_632333\n",
      "Successfully Converted:  ./test/5/5_306_663519\n",
      "Successfully Converted:  ./test/5/5_7208_644816\n",
      "Successfully Converted:  ./test/5/5_7529_629298\n",
      "Successfully Converted:  ./test/5/5_4581_584805\n",
      "Successfully Converted:  ./test/5/5_4699_663577\n",
      "Successfully Converted:  ./test/5/5_7208_644817\n",
      "Successfully Converted:  ./test/5/5_7680_529673\n",
      "Successfully Converted:  ./test/5/5_5054_584808\n",
      "Successfully Converted:  ./test/5/5_4148_535510\n",
      "Successfully Converted:  ./test/5/5_4699_529795\n",
      "Successfully Converted:  ./test/5/5_4840_635523\n",
      "Successfully Converted:  ./test/5/5_5205_537285\n",
      "Successfully Converted:  ./test/5/5_7599_665402\n",
      "Successfully Converted:  ./test/5/5_4302_529705\n",
      "Successfully Converted:  ./test/5/5_3123_64787\n",
      "Successfully Converted:  ./test/5/5_4524_665366\n",
      "Successfully Converted:  ./test/5/5_5471_535512\n",
      "Successfully Converted:  ./test/5/5_907_42286\n",
      "Successfully Converted:  ./test/5/5_5455_16846\n",
      "Successfully Converted:  ./test/5/5_5630_64787\n",
      "Successfully Converted:  ./test/5/5_4148_567452\n",
      "Successfully Converted:  ./test/5/5_2463_663759\n",
      "Successfully Converted:  ./test/5/5_5137_569411\n",
      "Successfully Converted:  ./test/5/5_7380_644810\n",
      "Successfully Converted:  ./test/5/5_6679_648214\n",
      "Successfully Converted:  ./test/5/5_2203_627002\n",
      "Successfully Converted:  ./test/5/5_5403_537583\n",
      "Successfully Converted:  ./test/5/5_2697_663913\n",
      "Successfully Converted:  ./test/5/5_4523_644814\n",
      "Successfully Converted:  ./test/5/5_8664_720712\n",
      "Successfully Converted:  ./test/5/5_7105_626872\n",
      "Successfully Converted:  ./test/5/5_4702_9214\n",
      "Successfully Converted:  ./test/5/5_4444_665393\n",
      "Successfully Converted:  ./test/5/5_4962_552963\n",
      "Successfully Converted:  ./test/5/5_3778_7968\n",
      "Successfully Converted:  ./test/5/5_6736_567395\n",
      "Successfully Converted:  ./test/5/5_7111_24150\n",
      "Successfully Converted:  ./test/5/5_4520_8282\n",
      "Successfully Converted:  ./test/5/5_6944_665312\n",
      "Successfully Converted:  ./test/5/5_3843_695096\n",
      "Successfully Converted:  ./test/5/5_5712_569535\n",
      "Successfully Converted:  ./test/5/5_5810_66260\n",
      "Successfully Converted:  ./test/5/5_7538_660258\n",
      "Successfully Converted:  ./test/5/5_3441_4466\n",
      "Successfully Converted:  ./test/5/5_7679_665354\n",
      "Successfully Converted:  ./test/5/5_4698_633116\n",
      "Successfully Converted:  ./test/5/5_7105_626812\n",
      "Successfully Converted:  ./test/5/5_5410_537573\n",
      "Successfully Converted:  ./test/5/5_4550_665372\n",
      "Successfully Converted:  ./test/5/5_8664_629951\n",
      "Successfully Converted:  ./test/5/5_4492_659894\n",
      "Successfully Converted:  ./test/5/5_7011_485387\n",
      "Successfully Converted:  ./test/5/5_5489_551554\n",
      "Successfully Converted:  ./test/5/5_8390_2125\n",
      "Successfully Converted:  ./test/5/5_2560_638389\n",
      "Successfully Converted:  ./test/5/5_7524_696974\n",
      "Successfully Converted:  ./test/5/5_5054_1858\n",
      "Successfully Converted:  ./test/5/5_6791_629846\n",
      "Successfully Converted:  ./test/5/5_247_661805\n",
      "Successfully Converted:  ./test/5/5_6652_659822\n",
      "Successfully Converted:  ./test/5/5_5712_642401\n",
      "Successfully Converted:  ./test/5/5_4551_681775\n",
      "Successfully Converted:  ./test/5/5_585_663268\n",
      "Successfully Converted:  ./test/5/5_6187_599976\n",
      "Successfully Converted:  ./test/5/5_7599_665409\n",
      "Successfully Converted:  ./test/5/5_8504_663540\n",
      "Successfully Converted:  ./test/5/5_6276_607969\n",
      "Successfully Converted:  ./test/5/5_5513_550766\n",
      "Successfully Converted:  ./test/5/5_6991_12308\n",
      "Successfully Converted:  ./test/5/5_6446_665347\n",
      "Successfully Converted:  ./test/5/5_3095_659814\n",
      "Successfully Converted:  ./test/5/5_7454_665336\n",
      "Successfully Converted:  ./test/5/5_4620_595642\n",
      "Successfully Converted:  ./test/5/5_7208_495897\n",
      "Successfully Converted:  ./test/5/5_349_4478\n",
      "Successfully Converted:  ./test/5/5_4522_665366\n",
      "Successfully Converted:  ./test/5/5_7407_648376\n",
      "Successfully Converted:  ./test/5/5_3627_695097\n",
      "Successfully Converted:  ./test/5/5_336_11196\n",
      "Successfully Converted:  ./test/5/5_3778_8313\n",
      "Successfully Converted:  ./test/5/5_683_626983\n",
      "Successfully Converted:  ./test/5/5_5794_567351\n",
      "Successfully Converted:  ./test/5/5_2727_1001\n",
      "Successfully Converted:  ./test/5/5_5686_742\n",
      "Successfully Converted:  ./test/5/5_5921_584892\n",
      "Successfully Converted:  ./test/5/5_5594_552765\n",
      "Successfully Converted:  ./test/5/5_263_661813\n",
      "Successfully Converted:  ./test/5/5_2930_659815\n",
      "Successfully Converted:  ./test/5/5_2727_663523\n",
      "Successfully Converted:  ./test/5/5_3399_659893\n",
      "Successfully Converted:  ./test/5/5_7340_626900\n",
      "Successfully Converted:  ./test/5/5_2203_626906\n",
      "Successfully Converted:  ./test/5/5_2203_626913\n",
      "Successfully Converted:  ./test/5/5_3394_660304\n",
      "Successfully Converted:  ./test/5/5_4228_642633\n",
      "Successfully Converted:  ./test/5/5_5511_550790\n",
      "Successfully Converted:  ./test/5/5_5810_644849\n",
      "Successfully Converted:  ./test/5/5_6679_634035\n",
      "Successfully Converted:  ./test/5/5_2878_626970\n",
      "Successfully Converted:  ./test/5/5_7692_560937\n",
      "Successfully Converted:  ./test/5/5_7574_665402\n",
      "Successfully Converted:  ./test/5/5_5519_550803\n",
      "Successfully Converted:  ./test/5/5_5679_567428\n",
      "Successfully Converted:  ./test/5/5_7515_665394\n",
      "Successfully Converted:  ./test/5/5_4463_665314\n",
      "Successfully Converted:  ./test/5/5_3025_660288\n",
      "Successfully Converted:  ./test/5/5_6024_489992\n",
      "Successfully Converted:  ./test/5/5_5912_232894\n",
      "Successfully Converted:  ./test/5/5_533_663928\n",
      "Successfully Converted:  ./test/5/5_4444_665394\n",
      "Successfully Converted:  ./test/5/5_4492_663574\n",
      "Successfully Converted:  ./test/5/5_357_600860\n",
      "Successfully Converted:  ./test/5/5_4148_529795\n",
      "Successfully Converted:  ./test/5/5_2930_642628\n",
      "Successfully Converted:  ./test/5/5_7274_536951\n",
      "Successfully Converted:  ./test/5/5_357_659731\n",
      "Successfully Converted:  ./test/5/5_4492_643029\n",
      "Successfully Converted:  ./test/5/5_6002_12309\n",
      "Successfully Converted:  ./test/5/5_2490_607955\n",
      "Successfully Converted:  ./test/5/5_7454_485007\n",
      "Successfully Converted:  ./test/5/5_753_664124\n",
      "Successfully Converted:  ./test/5/5_5351_488162\n",
      "Successfully Converted:  ./test/5/5_7536_17857\n",
      "Successfully Converted:  ./test/5/5_2967_678463\n",
      "Successfully Converted:  ./test/5/5_7208_21766\n",
      "Successfully Converted:  ./test/5/5_4522_595654\n",
      "Successfully Converted:  ./test/5/5_6770_636139\n",
      "Successfully Converted:  ./test/5/5_6836_634053\n",
      "Successfully Converted:  ./test/5/5_2772_21766\n",
      "Successfully Converted:  ./test/5/5_3441_659822\n",
      "Successfully Converted:  ./test/5/5_6736_632278\n",
      "Successfully Converted:  ./test/5/5_1576_626896\n",
      "Successfully Converted:  ./test/5/5_5499_539864\n",
      "Successfully Converted:  ./test/5/5_4180_26540\n",
      "Successfully Converted:  ./test/5/5_1437_637772\n",
      "Successfully Converted:  ./test/5/5_6824_568666\n",
      "Successfully Converted:  ./test/5/5_6232_607868\n",
      "Successfully Converted:  ./test/5/5_5054_584805\n",
      "Successfully Converted:  ./test/5/5_3354_536929\n",
      "Successfully Converted:  ./test/5/5_4703_568666\n",
      "Successfully Converted:  ./test/5/5_7574_68118\n",
      "Successfully Converted:  ./test/5/5_4221_135822\n",
      "Successfully Converted:  ./test/5/5_4753_634398\n",
      "Successfully Converted:  ./test/5/5_5596_40425\n",
      "Successfully Converted:  ./test/5/5_7087_615610\n",
      "Successfully Converted:  ./test/5/5_3748_17292\n",
      "Successfully Converted:  ./test/5/5_263_661812\n",
      "Successfully Converted:  ./test/5/5_7599_665408\n",
      "Successfully Converted:  ./test/5/5_4840_635524\n",
      "Successfully Converted:  ./test/5/5_3725_663888\n",
      "Successfully Converted:  ./test/5/5_7701_600199\n",
      "Successfully Converted:  ./test/5/5_2697_610620\n",
      "Successfully Converted:  ./test/5/5_180_552963\n",
      "Successfully Converted:  ./test/5/5_5113_626933\n",
      "Successfully Converted:  ./test/5/5_8504_534471\n",
      "Successfully Converted:  ./test/5/5_7055_553987\n",
      "Successfully Converted:  ./test/5/5_3611_659714\n",
      "Successfully Converted:  ./test/5/5_5460_490039\n",
      "Successfully Converted:  ./test/5/5_3399_659891\n",
      "Successfully Converted:  ./test/5/5_4520_541684\n",
      "Successfully Converted:  ./test/5/5_4444_151\n",
      "Successfully Converted:  ./test/5/5_4521_28377\n",
      "Successfully Converted:  ./test/5/5_7380_644842\n",
      "Successfully Converted:  ./test/5/5_3990_599770\n",
      "Successfully Converted:  ./test/5/5_625_21766\n",
      "Successfully Converted:  ./test/5/5_8687_251860\n",
      "Successfully Converted:  ./test/5/5_6359_600262\n",
      "Successfully Converted:  ./test/5/5_6829_568666\n",
      "Successfully Converted:  ./test/5/5_3991_551570\n",
      "Successfully Converted:  ./test/5/5_724_663897\n",
      "Successfully Converted:  ./test/5/5_6334_600299\n",
      "Successfully Converted:  ./test/5/5_5712_568818\n",
      "Successfully Converted:  ./test/5/5_6679_6553\n",
      "Successfully Converted:  ./test/5/5_6547_5078\n",
      "Successfully Converted:  ./test/5/5_2787_607830\n",
      "Successfully Converted:  ./test/5/5_2697_5078\n",
      "Successfully Converted:  ./test/5/5_7546_26054\n",
      "Successfully Converted:  ./test/5/5_2462_664115\n",
      "Successfully Converted:  ./test/5/5_8197_6583\n",
      "Successfully Converted:  ./test/5/5_4228_717128\n",
      "Successfully Converted:  ./test/5/5_2203_556644\n",
      "Successfully Converted:  ./test/5/5_247_660269\n",
      "Successfully Converted:  ./test/5/5_6652_642628\n",
      "Successfully Converted:  ./test/5/5_379_690034\n",
      "Successfully Converted:  ./test/5/5_4496_665326\n",
      "Successfully Converted:  ./test/5/5_3423_659814\n",
      "Successfully Converted:  ./test/5/5_5679_567429\n",
      "Successfully Converted:  ./test/5/5_8236_665389\n",
      "Successfully Converted:  ./test/5/5_5514_551116\n",
      "Successfully Converted:  ./test/5/5_5912_598114\n",
      "Successfully Converted:  ./test/5/5_5511_550791\n",
      "Successfully Converted:  ./test/5/5_6291_15025\n",
      "Successfully Converted:  ./test/5/5_6446_665312\n",
      "Successfully Converted:  ./test/5/5_3276_659814\n",
      "Successfully Converted:  ./test/5/5_3853_690034\n",
      "Successfully Converted:  ./test/5/5_6680_635505\n",
      "Successfully Converted:  ./test/5/5_155_664757\n",
      "Successfully Converted:  ./test/5/5_7817_542974\n",
      "Successfully Converted:  ./test/5/5_3789_553954\n",
      "Successfully Converted:  ./test/5/5_4502_662276\n",
      "Successfully Converted:  ./test/5/5_8456_659529\n",
      "Successfully Converted:  ./test/5/5_1841_637766\n",
      "Successfully Converted:  ./test/5/5_453_663933\n",
      "Successfully Converted:  ./test/5/5_8488_717125\n",
      "Successfully Converted:  ./test/5/5_5712_569536\n",
      "Successfully Converted:  ./test/5/5_2728_678493\n",
      "Successfully Converted:  ./test/5/5_6279_597535\n",
      "Successfully Converted:  ./test/5/5_3770_679353\n",
      "Successfully Converted:  ./test/5/5_5703_566788\n",
      "Successfully Converted:  ./test/5/5_4104_642636\n",
      "Successfully Converted:  ./test/5/5_4443_615623\n",
      "Successfully Converted:  ./test/5/5_3272_632314\n",
      "Successfully Converted:  ./test/5/5_5476_550831\n",
      "Successfully Converted:  ./test/5/5_502_659714\n",
      "Successfully Converted:  ./test/5/5_3083_629325\n",
      "Successfully Converted:  ./test/5/5_3943_660246\n",
      "Successfully Converted:  ./test/5/5_4443_665396\n",
      "Successfully Converted:  ./test/5/5_8796_670537\n",
      "Successfully Converted:  ./test/5/5_4581_584807\n",
      "Successfully Converted:  ./test/5/5_7975_681253\n",
      "Successfully Converted:  ./test/5/5_4573_332382\n",
      "Successfully Converted:  ./test/5/5_247_661806\n",
      "Successfully Converted:  ./test/5/5_4620_642573\n",
      "Successfully Converted:  ./test/5/5_4927_600275\n",
      "Successfully Converted:  ./test/5/5_6382_600637\n",
      "Successfully Converted:  ./test/5/5_165_664219\n",
      "Successfully Converted:  ./test/5/5_4753_634406\n",
      "Successfully Converted:  ./test/5/5_5206_535243\n",
      "Successfully Converted:  ./test/5/5_5694_590393\n",
      "Successfully Converted:  ./test/5/5_533_657044\n",
      "Successfully Converted:  ./test/5/5_4950_600209\n",
      "Successfully Converted:  ./test/5/5_612_742\n",
      "Successfully Converted:  ./test/5/5_2990_678532\n",
      "Successfully Converted:  ./test/5/5_8390_659731\n",
      "Successfully Converted:  ./test/5/5_4231_569408\n",
      "Successfully Converted:  ./test/5/5_4501_665357\n",
      "Successfully Converted:  ./test/5/5_4503_663533\n",
      "Successfully Converted:  ./test/5/5_429_669911\n",
      "Successfully Converted:  ./test/5/5_450_638394\n",
      "Successfully Converted:  ./test/5/5_278_626995\n",
      "Successfully Converted:  ./test/5/5_7546_26193\n",
      "Successfully Converted:  ./test/5/5_180_664133\n",
      "Successfully Converted:  ./test/5/5_8781_663304\n",
      "Successfully Converted:  ./test/5/5_5510_550766\n",
      "Successfully Converted:  ./test/5/5_2610_666687\n",
      "Successfully Converted:  ./test/5/5_202_663748\n",
      "Successfully Converted:  ./test/5/5_1841_4613\n",
      "Successfully Converted:  ./test/5/5_4233_659802\n",
      "Successfully Converted:  ./test/5/5_5604_135844\n",
      "Successfully Converted:  ./test/5/5_2969_663943\n",
      "Successfully Converted:  ./test/5/5_5462_497085\n",
      "Successfully Converted:  ./test/5/5_4581_7548\n",
      "Successfully Converted:  ./test/5/5_2847_659889\n",
      "Successfully Converted:  ./test/5/5_5443_535288\n",
      "Successfully Converted:  ./test/5/5_5678_569604\n",
      "Successfully Converted:  ./test/5/5_4840_552697\n",
      "Successfully Converted:  ./test/5/5_6655_599105\n",
      "Successfully Converted:  ./test/5/5_4175_717118\n",
      "Successfully Converted:  ./test/5/5_3000_607964\n",
      "Successfully Converted:  ./test/5/5_7975_632244\n",
      "Successfully Converted:  ./test/5/5_5443_529991\n",
      "Successfully Converted:  ./test/5/5_4047_684503\n",
      "Successfully Converted:  ./test/5/5_453_21766\n",
      "Successfully Converted:  ./test/5/5_5712_568827\n",
      "Successfully Converted:  ./test/5/5_5712_568816\n",
      "Successfully Converted:  ./test/5/5_7340_626896\n",
      "Successfully Converted:  ./test/5/5_6931_15577\n",
      "Successfully Converted:  ./test/5/5_4049_86919\n",
      "Successfully Converted:  ./test/5/5_7487_685184\n",
      "Successfully Converted:  ./test/5/5_1157_554014\n",
      "Successfully Converted:  ./test/5/5_5563_552791\n",
      "Successfully Converted:  ./test/5/5_7597_661831\n",
      "Successfully Converted:  ./test/5/5_1157_15920\n",
      "Successfully Converted:  ./test/5/5_344_637780\n",
      "Successfully Converted:  ./test/5/5_3423_659822\n",
      "Successfully Converted:  ./test/5/5_6089_599098\n",
      "Successfully Converted:  ./test/5/5_3338_663940\n",
      "Successfully Converted:  ./test/5/5_6798_629298\n",
      "Successfully Converted:  ./test/5/5_6931_665380\n",
      "Successfully Converted:  ./test/5/5_2397_633116\n",
      "Successfully Converted:  ./test/5/5_907_599790\n",
      "Successfully Converted:  ./test/5/5_3820_5078\n",
      "Successfully Converted:  ./test/5/5_5565_90874\n",
      "Successfully Converted:  ./test/5/5_6968_568666\n",
      "Successfully Converted:  ./test/5/5_7421_634047\n",
      "Successfully Converted:  ./test/5/5_4463_665375\n",
      "Successfully Converted:  ./test/5/5_7454_665337\n",
      "Successfully Converted:  ./test/5/5_777_600007\n",
      "Successfully Converted:  ./test/5/5_4231_537575\n",
      "Successfully Converted:  ./test/5/5_4443_665355\n",
      "Successfully Converted:  ./test/5/5_8320_529795\n",
      "Successfully Converted:  ./test/5/5_4581_1858\n",
      "Successfully Converted:  ./test/5/5_4473_665371\n",
      "Successfully Converted:  ./test/5/5_4233_629297\n",
      "Successfully Converted:  ./test/5/5_5113_560937\n",
      "Successfully Converted:  ./test/5/5_5435_494640\n",
      "Successfully Converted:  ./test/5/5_3748_495921\n",
      "Successfully Converted:  ./test/5/5_4150_615831\n",
      "Successfully Converted:  ./test/5/5_7067_629896\n",
      "Successfully Converted:  ./test/5/5_3124_40425\n",
      "Successfully Converted:  ./test/5/5_6446_681772\n",
      "Successfully Converted:  ./test/5/5_4550_8002\n",
      "Successfully Converted:  ./test/5/5_4463_10621\n",
      "Successfully Converted:  ./test/5/5_8546_667506\n",
      "Successfully Converted:  ./test/5/5_5586_529843\n",
      "Successfully Converted:  ./test/5/5_1906_679699\n",
      "Successfully Converted:  ./test/5/5_3748_600861\n",
      "Successfully Converted:  ./test/5/5_4150_615834\n",
      "Successfully Converted:  ./test/5/5_2203_626911\n",
      "Successfully Converted:  ./test/5/5_272_664138\n",
      "Successfully Converted:  ./test/5/5_4228_3556\n",
      "Successfully Converted:  ./test/5/5_1157_554015\n",
      "Successfully Converted:  ./test/5/5_8529_717126\n",
      "Successfully Converted:  ./test/5/5_6679_585554\n",
      "Successfully Converted:  ./test/5/5_7975_638372\n",
      "Successfully Converted:  ./test/5/5_4967_598049\n",
      "Successfully Converted:  ./test/5/5_8320_642634\n",
      "Successfully Converted:  ./test/5/5_3423_642628\n",
      "Successfully Converted:  ./test/5/5_4840_635522\n",
      "Successfully Converted:  ./test/5/5_8057_569516\n",
      "Successfully Converted:  ./test/5/5_5511_551102\n",
      "Successfully Converted:  ./test/5/5_6549_615783\n"
     ]
    }
   ],
   "source": [
    "convert_arr_to_jpeg(5, './test')"
   ]
  },
  {
   "cell_type": "code",
   "execution_count": null,
   "metadata": {
    "collapsed": true
   },
   "outputs": [],
   "source": []
  }
 ],
 "metadata": {
  "anaconda-cloud": {},
  "kernelspec": {
   "display_name": "Python [default]",
   "language": "python",
   "name": "python2"
  },
  "language_info": {
   "codemirror_mode": {
    "name": "ipython",
    "version": 2
   },
   "file_extension": ".py",
   "mimetype": "text/x-python",
   "name": "python",
   "nbconvert_exporter": "python",
   "pygments_lexer": "ipython2",
   "version": "2.7.12"
  }
 },
 "nbformat": 4,
 "nbformat_minor": 1
}
